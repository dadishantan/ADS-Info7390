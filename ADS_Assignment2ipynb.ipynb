{
  "nbformat": 4,
  "nbformat_minor": 0,
  "metadata": {
    "colab": {
      "provenance": []
    },
    "kernelspec": {
      "name": "python3",
      "display_name": "Python 3"
    },
    "language_info": {
      "name": "python"
    }
  },
  "cells": [
    {
      "cell_type": "markdown",
      "source": [
        "# Importing Libraries"
      ],
      "metadata": {
        "id": "re-LoOFnBPrC"
      }
    },
    {
      "cell_type": "code",
      "source": [
        "import numpy as np\n",
        "from scipy.special import expit"
      ],
      "metadata": {
        "id": "SQ9JPHxUAW3F"
      },
      "execution_count": 41,
      "outputs": []
    },
    {
      "cell_type": "markdown",
      "source": [
        "# Sigmoid Activation Function"
      ],
      "metadata": {
        "id": "i_2U8FUNBUeT"
      }
    },
    {
      "cell_type": "code",
      "source": [
        "# Sigmoid Activation Function\n",
        "def sigmoid(z):\n",
        "    # clip the input value to avoid overflow errors\n",
        "    z = np.clip(z, -500, 500)\n",
        "    return expit(z)\n"
      ],
      "metadata": {
        "id": "sSKzRNqEAZjs"
      },
      "execution_count": 42,
      "outputs": []
    },
    {
      "cell_type": "markdown",
      "source": [
        "# Relu Activation"
      ],
      "metadata": {
        "id": "lexcArddEa25"
      }
    },
    {
      "cell_type": "code",
      "source": [
        "# ReLU Activation Function\n",
        "def relu(z):\n",
        "    return np.maximum(0, z)\n"
      ],
      "metadata": {
        "id": "jYaht1xBAfhg"
      },
      "execution_count": 43,
      "outputs": []
    },
    {
      "cell_type": "markdown",
      "source": [
        "# Log Loss Function"
      ],
      "metadata": {
        "id": "wy6D8LaGEdvP"
      }
    },
    {
      "cell_type": "code",
      "source": [
        "# Log Loss Function\n",
        "def log_loss(y_true, y_pred):\n",
        "    epsilon = 1e-15\n",
        "    y_pred = np.clip(y_pred, epsilon, 1 - epsilon)\n",
        "    return np.mean(-(y_true * np.log(y_pred) + (1 - y_true) * np.log(1 - y_pred)))"
      ],
      "metadata": {
        "id": "QkWCFNQFAhrg"
      },
      "execution_count": 44,
      "outputs": []
    },
    {
      "cell_type": "markdown",
      "source": [
        "## Stochastic Gradient Descent Optimization"
      ],
      "metadata": {
        "id": "PPGeMy73EjpJ"
      }
    },
    {
      "cell_type": "code",
      "source": [
        "# Stochastic Gradient Descent Optimization\n",
        "def sgd(X, y, learning_rate=0.01, n_epochs=1000, activation_func='sigmoid'):\n",
        "    n_samples, n_features = X.shape\n",
        "    weights = np.zeros(n_features)\n",
        "    bias = 0\n",
        "    losses = []\n",
        "    for epoch in range(n_epochs):\n",
        "        idx = np.random.randint(n_samples)\n",
        "        X_i = X[idx]\n",
        "        y_i = y[idx]\n",
        "        z = np.dot(X_i, weights) + bias\n",
        "        if activation_func == 'sigmoid':\n",
        "            a = sigmoid(z)\n",
        "        elif activation_func == 'relu':\n",
        "            a = relu(z)\n",
        "        else:\n",
        "            raise ValueError('Invalid activation function')\n",
        "        # Compute gradients\n",
        "        dz = a - y_i\n",
        "        dw = X_i * dz\n",
        "        db = dz\n",
        "        # Update weights and bias\n",
        "        weights -= learning_rate * dw\n",
        "        bias -= learning_rate * db\n",
        "        # Compute and store loss\n",
        "        y_pred = sigmoid(np.dot(X, weights) + bias)\n",
        "        loss = log_loss(y, y_pred)\n",
        "        losses.append(loss)\n",
        "    return weights, bias, losses"
      ],
      "metadata": {
        "id": "ZMOE9pw4AjWi"
      },
      "execution_count": 45,
      "outputs": []
    },
    {
      "cell_type": "markdown",
      "source": [
        "# Example Usage"
      ],
      "metadata": {
        "id": "L7f5HqaXElpA"
      }
    },
    {
      "cell_type": "code",
      "source": [
        "# Example Usage\n",
        "from sklearn.datasets import load_breast_cancer\n",
        "from sklearn.model_selection import train_test_split\n",
        "from sklearn.metrics import accuracy_score, f1_score"
      ],
      "metadata": {
        "id": "QBpHt04XApVY"
      },
      "execution_count": 46,
      "outputs": []
    },
    {
      "cell_type": "markdown",
      "source": [
        "# Load and preprocess data"
      ],
      "metadata": {
        "id": "X5mDlNMLEqD0"
      }
    },
    {
      "cell_type": "code",
      "source": [
        "# Load and preprocess data\n",
        "data = load_breast_cancer()\n",
        "X = data.data\n",
        "y = data.target\n",
        "X = (X - X.mean(axis=0)) / X.std(axis=0) # Standardize features"
      ],
      "metadata": {
        "id": "xOU-2_9cAqLx"
      },
      "execution_count": 47,
      "outputs": []
    },
    {
      "cell_type": "code",
      "source": [
        "# Split data into train and test sets\n",
        "X_train, X_test, y_train, y_test = train_test_split(X, y, test_size=0.2, random_state=42)"
      ],
      "metadata": {
        "id": "WgmuKfiFAtSv"
      },
      "execution_count": 48,
      "outputs": []
    },
    {
      "cell_type": "code",
      "source": [
        "# Train model using SGD with sigmoid activation function\n",
        "weights, bias, losses = sgd(X_train, y_train, learning_rate=0.1, n_epochs=10000, activation_func='sigmoid')"
      ],
      "metadata": {
        "id": "Qk8n3wG4AwpV"
      },
      "execution_count": 49,
      "outputs": []
    },
    {
      "cell_type": "code",
      "source": [
        "# Make predictions on test set\n",
        "y_pred = sigmoid(np.dot(X_test, weights) + bias)\n",
        "y_pred_class = np.round(y_pred)"
      ],
      "metadata": {
        "id": "C34QMzLcAyXO"
      },
      "execution_count": 50,
      "outputs": []
    },
    {
      "cell_type": "markdown",
      "source": [
        "# Evaluation For Sigmoid"
      ],
      "metadata": {
        "id": "GOHQJoMMEth8"
      }
    },
    {
      "cell_type": "code",
      "source": [
        "# Evaluate model performance\n",
        "accuracy = accuracy_score(y_test, y_pred_class)\n",
        "f1 = f1_score(y_test, y_pred_class)\n",
        "print('Accuracy using Sigmoid:', accuracy)\n",
        "print('F1 Score using Sigmoid :', f1)"
      ],
      "metadata": {
        "colab": {
          "base_uri": "https://localhost:8080/"
        },
        "id": "FN6R7QklA0CB",
        "outputId": "76a63934-99ef-4945-837f-f7b557393e4e"
      },
      "execution_count": 51,
      "outputs": [
        {
          "output_type": "stream",
          "name": "stdout",
          "text": [
            "Accuracy using Sigmoid: 0.9824561403508771\n",
            "F1 Score using Sigmoid : 0.9859154929577465\n"
          ]
        }
      ]
    },
    {
      "cell_type": "code",
      "source": [
        "\n",
        "# Train model using SGD with ReLU activation function\n",
        "weights, bias, losses = sgd(X_train, y_train, learning_rate=0.1, n_epochs=10000, activation_func='relu')"
      ],
      "metadata": {
        "id": "TSGMUnslA1_C"
      },
      "execution_count": 52,
      "outputs": []
    },
    {
      "cell_type": "code",
      "source": [
        "# Make predictions on test set\n",
        "y_pred = sigmoid(np.dot(X_test, weights) + bias)\n",
        "y_pred_class = np.round(y_pred)"
      ],
      "metadata": {
        "id": "ov98L6FZA4Ar"
      },
      "execution_count": 53,
      "outputs": []
    },
    {
      "cell_type": "markdown",
      "source": [
        "# Evaluation for Relu"
      ],
      "metadata": {
        "id": "PhRSbDhLE1Qx"
      }
    },
    {
      "cell_type": "code",
      "source": [
        "\n",
        "# Evaluate model performance\n",
        "accuracy = accuracy_score(y_test, y_pred_class)\n",
        "f1 = f1_score(y_test, y_pred_class)\n",
        "print('Accuracy using Relu:', accuracy)\n",
        "print('F1 Score using Relu:', f1)"
      ],
      "metadata": {
        "colab": {
          "base_uri": "https://localhost:8080/"
        },
        "id": "lY250E6HA51W",
        "outputId": "4a1e02f1-ce48-4da5-fb3e-b7116119815d"
      },
      "execution_count": 54,
      "outputs": [
        {
          "output_type": "stream",
          "name": "stdout",
          "text": [
            "Accuracy using Relu: 0.5350877192982456\n",
            "F1 Score using Relu: 0.41758241758241754\n"
          ]
        }
      ]
    },
    {
      "cell_type": "code",
      "source": [],
      "metadata": {
        "id": "g4bTldcuTDUT"
      },
      "execution_count": 54,
      "outputs": []
    }
  ]
}